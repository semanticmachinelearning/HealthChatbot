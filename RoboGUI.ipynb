{
 "cells": [
  {
   "cell_type": "code",
   "execution_count": 1,
   "metadata": {},
   "outputs": [],
   "source": [
    "import io\n",
    "import random\n",
    "import string # to process standard python strings\n",
    "import warnings\n",
    "import numpy as np\n",
    "from sklearn.feature_extraction.text import TfidfVectorizer\n",
    "from sklearn.metrics.pairwise import cosine_similarity\n",
    "import warnings\n",
    "warnings.filterwarnings('ignore')"
   ]
  },
  {
   "cell_type": "code",
   "execution_count": 14,
   "metadata": {},
   "outputs": [],
   "source": [
    "import HealthChatbotv32 as hcb\n",
    "from tkinter import *\n",
    "import tkinter as tk"
   ]
  },
  {
   "cell_type": "code",
   "execution_count": 4,
   "metadata": {},
   "outputs": [],
   "source": [
    "GREETING_INPUTS = (\"hello\", \"hi\", \"greetings\", \"sup\", \"up\",\"hey\",\"good\",\"feel\",'lovely','rain','weather','sunning')\n",
    "GREETING_RESPONSES = [\"hi\", \"hey\", \"*nods*\", \"hi there\", \"hello\", \"I am glad! You are talking to me\",\"I am good\"]\n",
    "def greeting(sentence):\n",
    "    for word in sentence.split():\n",
    "        if word.lower() in GREETING_INPUTS:\n",
    "            return random.choice(GREETING_RESPONSES)\n",
    "polit_inputs =('question','yes','no')\n",
    "polit_responses = ['yse','sure',\"*nods*\"]\n",
    "def politing(sentence):\n",
    "    for word in sentence.split():\n",
    "        if word.lower() in polit_inputs:\n",
    "            return random.choice(polit_responses)"
   ]
  },
  {
   "cell_type": "code",
   "execution_count": 5,
   "metadata": {},
   "outputs": [],
   "source": [
    "def response(user_response):\n",
    "    robo_response=''\n",
    "    ans1, ans2,t,sts=hcb.qa_chat(user_response)\n",
    "    if(ans1=='' and ans2==''):\n",
    "        robo_response=robo_response+\"I am sorry! I can't find this information from my trusted websites.\"\n",
    "        return robo_response,t,sts\n",
    "    else:\n",
    "        if len(ans1.split('):'))>1:\n",
    "            robo_response = ans1.split('):')[-1]+'\\n'+ans2\n",
    "        else:\n",
    "            if len(ans2.split('knowledge: ['))>1:\n",
    "                robo_response = ans2[:-2]+']\\n'+'UK NHS:['+ans1+']'\n",
    "            else:\n",
    "                robo_response = ans1\n",
    "        return robo_response,t,sts"
   ]
  },
  {
   "cell_type": "code",
   "execution_count": 6,
   "metadata": {},
   "outputs": [],
   "source": [
    "def comp_s(event):\n",
    "    question = user.get() \n",
    "    if question !='':\n",
    "        inser_txt,t,sts = get_response(question)\n",
    "        text.insert(tk.END, \"\\nYou: \"+question+'\\n')\n",
    "        if len(inser_txt.split('UK NHS:'))>1:\n",
    "            text.insert(tk.END, inser_txt.split('UK NHS:')[0], 'robo')\n",
    "            text.insert(tk.END, \"\\nNHS:\"+inser_txt.split('UK NHS:')[-1], 'nhs')\n",
    "        else:\n",
    "            text.insert(tk.END, \"Robo:\"+inser_txt, 'robo')\n",
    "        e1.delete(0, END)\n",
    "        if t!='':\n",
    "            print(t)\n",
    "            hcb.semantic_generation(inser_txt,t,sts)"
   ]
  },
  {
   "cell_type": "code",
   "execution_count": 7,
   "metadata": {},
   "outputs": [],
   "source": [
    "def main():                             \n",
    "    question = user.get() \n",
    "    if question !='':\n",
    "        inser_txt,t,sts = get_response(question)\n",
    "        text.insert(tk.END, \"\\nYou: \"+question)\n",
    "        if len(inser_txt.split('UK NHS:'))>1:\n",
    "            text.insert(tk.END, \"\\nRobo:\"+inser_txt.split('UK NHS:')[0], 'robo')\n",
    "            text.insert(tk.END, \"\\nNHS:\"+inser_txt.split('UK NHS:')[-1], 'nhs')\n",
    "        else:\n",
    "            text.insert(tk.END, \"\\nRobo:\"+inser_txt, 'robo')\n",
    "        e1.delete(0, END)\n",
    "        if t!='':\n",
    "            print(t)\n",
    "            hcb.semantic_generation(inser_txt,t,sts)"
   ]
  },
  {
   "cell_type": "code",
   "execution_count": 8,
   "metadata": {},
   "outputs": [],
   "source": [
    "def get_response(user_response):\n",
    "    t = ''\n",
    "    sts=[]\n",
    "    user_response=user_response.lower()\n",
    "    if(user_response!='bye' and user_response!='exit'):\n",
    "        if(user_response=='thanks' or user_response=='thank you' or user_response=='May I'):\n",
    "            #flag=False\n",
    "            message_=\"ROBO: You are welcome...any question?\"\n",
    "        else:\n",
    "            if(greeting(user_response)!=None or politing(user_response)!=None):\n",
    "                if greeting(user_response)!=None:\n",
    "                    message_=\"ROBO: \"+greeting(user_response)\n",
    "                else:\n",
    "                    message_=\"ROBO: \"+ politing(user_response)\n",
    "            else:\n",
    "                if (len(user_response.split(' '))<=2):\n",
    "                    flag=False\n",
    "                    message_=\"ROBO: \"+\"I didn't understand you, sorry! Bye! take care ...\"\n",
    "                else:    \n",
    "                    message_='ROBO: I will find out for you...'\n",
    "                    message_, t,sts =response(user_response)\n",
    "    else:\n",
    "        flag=False\n",
    "        message_=\"ROBO: Bye! take care..\"\n",
    "    return message_,t,sts"
   ]
  },
  {
   "cell_type": "code",
   "execution_count": 16,
   "metadata": {},
   "outputs": [
    {
     "name": "stdout",
     "output_type": "stream",
     "text": [
      "I see this question related to a health condition...\n"
     ]
    },
    {
     "name": "stderr",
     "output_type": "stream",
     "text": [
      "SELECT DISTINCT ?t ?p WHERE {{?d <http://healthchatbot.org/condtion/question does not look like a valid URI, trying to serialize this will break.\n",
      "SELECT DISTINCT ?t ?p WHERE {{?d <http://healthchatbot.org/condtion/question> ?n . ?n < does not look like a valid URI, trying to serialize this will break.\n",
      "SELECT DISTINCT ?t ?p WHERE {{?d <http://healthchatbot.org/condtion/question> ?n . ?n <http://healthchatbot.org/condtion/aLabel does not look like a valid URI, trying to serialize this will break.\n",
      "SELECT DISTINCT ?t ?p WHERE {{?d <http://healthchatbot.org/condtion/question> ?n . ?n <http://healthchatbot.org/condtion/aLabel does not look like a valid URI, trying to serialize this will break.\n",
      "SELECT DISTINCT ?t ?p WHERE {{?d <http://healthchatbot.org/condtion/question> ?n . ?n <http://healthchatbot.org/condtion/aLabel> ?s FILTER regex(str(?s), ' does not look like a valid URI, trying to serialize this will break.\n",
      "SELECT DISTINCT ?t ?p WHERE {{?d <http://healthchatbot.org/condtion/question> ?n . ?n <http://healthchatbot.org/condtion/aLabel> ?s FILTER regex(str(?s), 'symptoms does not look like a valid URI, trying to serialize this will break.\n",
      "SELECT DISTINCT ?t ?p WHERE {{?d <http://healthchatbot.org/condtion/question> ?n . ?n <http://healthchatbot.org/condtion/aLabel> ?s FILTER regex(str(?s), 'symptoms') . does not look like a valid URI, trying to serialize this will break.\n",
      "SELECT DISTINCT ?t ?p WHERE {{?d <http://healthchatbot.org/condtion/question> ?n . ?n <http://healthchatbot.org/condtion/aLabel> ?s FILTER regex(str(?s), 'symptoms') . ?t < does not look like a valid URI, trying to serialize this will break.\n",
      "SELECT DISTINCT ?t ?p WHERE {{?d <http://healthchatbot.org/condtion/question> ?n . ?n <http://healthchatbot.org/condtion/aLabel> ?s FILTER regex(str(?s), 'symptoms') . ?t <http://healthchatbot.org/condtion/answerTo does not look like a valid URI, trying to serialize this will break.\n",
      "SELECT DISTINCT ?t ?p WHERE {{?d <http://healthchatbot.org/condtion/question> ?n . ?n <http://healthchatbot.org/condtion/aLabel> ?s FILTER regex(str(?s), 'symptoms') . ?t <http://healthchatbot.org/condtion/answerTo does not look like a valid URI, trying to serialize this will break.\n",
      "SELECT DISTINCT ?t ?p WHERE {{?d <http://healthchatbot.org/condtion/question> ?n . ?n <http://healthchatbot.org/condtion/aLabel> ?s FILTER regex(str(?s), 'symptoms') . ?t <http://healthchatbot.org/condtion/answerTo> ?n . ?t < does not look like a valid URI, trying to serialize this will break.\n",
      "SELECT DISTINCT ?t ?p WHERE {{?d <http://healthchatbot.org/condtion/question> ?n . ?n <http://healthchatbot.org/condtion/aLabel> ?s FILTER regex(str(?s), 'symptoms') . ?t <http://healthchatbot.org/condtion/answerTo> ?n . ?t <http://www.w3.org/1999/02/22-rdf-syntax-ns#type does not look like a valid URI, trying to serialize this will break.\n",
      "SELECT DISTINCT ?t ?p WHERE {{?d <http://healthchatbot.org/condtion/question> ?n . ?n <http://healthchatbot.org/condtion/aLabel> ?s FILTER regex(str(?s), 'symptoms') . ?t <http://healthchatbot.org/condtion/answerTo> ?n . ?t <http://www.w3.org/1999/02/22-rdf-syntax-ns#type does not look like a valid URI, trying to serialize this will break.\n",
      "SELECT DISTINCT ?t ?p WHERE {{?d <http://healthchatbot.org/condtion/question> ?n . ?n <http://healthchatbot.org/condtion/aLabel> ?s FILTER regex(str(?s), 'symptoms') . ?t <http://healthchatbot.org/condtion/answerTo> ?n . ?t <http://www.w3.org/1999/02/22-rdf-syntax-ns#type> ?p .} does not look like a valid URI, trying to serialize this will break.\n",
      "SELECT DISTINCT ?t ?p WHERE {{?d <http://healthchatbot.org/condtion/question> ?n . ?n <http://healthchatbot.org/condtion/aLabel> ?s FILTER regex(str(?s), 'symptoms') . ?t <http://healthchatbot.org/condtion/answerTo> ?n . ?t <http://www.w3.org/1999/02/22-rdf-syntax-ns#type> ?p .}} does not look like a valid URI, trying to serialize this will break.\n"
     ]
    }
   ],
   "source": [
    "root = Tk()\n",
    "root.title('Health information chatbot (ROBO) v0.1 Beta')\n",
    "text = Text(root, height=40, width=100)\n",
    "scroll = Scrollbar(root, command=text.yview)\n",
    "\n",
    "text.configure(yscrollcommand=scroll.set)\n",
    "text.tag_config('nhs', background=\"yellow\", foreground=\"red\")\n",
    "text.tag_config('robo', background=\"blue\", foreground=\"white\")\n",
    "\n",
    "#text.pack(side=LEFT)\n",
    "text.insert('1.0', \"ROBO: My name is Robo. \\nROBO: I will answer your queries about health topics. \\nROBO: If you want to exit, type bye or exit!\")\n",
    "thetext = text.get('1.0','end')\n",
    "#print(thetext.split('ROBO:')[1])\n",
    "text.grid(row=0,columnspan=3)\n",
    "scroll.grid(row=0, column=4)\n",
    "lab=Label(root, text=\"Your message: \")\n",
    "lab.grid(row=1)\n",
    "user = StringVar()\n",
    "e1 = Entry(root,textvariable=user,width=70)\n",
    "e1.grid(row=1, column=1)\n",
    "e1.focus()\n",
    "b1=Button(root)\n",
    "b1.config(text=\"Speak\", width=10, command=main)\n",
    "b1.grid(row=1, column=2)\n",
    "e1.bind('<Return>',comp_s) \n",
    "root.mainloop()"
   ]
  },
  {
   "cell_type": "code",
   "execution_count": null,
   "metadata": {},
   "outputs": [],
   "source": []
  },
  {
   "cell_type": "code",
   "execution_count": null,
   "metadata": {},
   "outputs": [],
   "source": []
  }
 ],
 "metadata": {
  "kernelspec": {
   "display_name": "Python 3",
   "language": "python",
   "name": "python3"
  },
  "language_info": {
   "codemirror_mode": {
    "name": "ipython",
    "version": 3
   },
   "file_extension": ".py",
   "mimetype": "text/x-python",
   "name": "python",
   "nbconvert_exporter": "python",
   "pygments_lexer": "ipython3",
   "version": "3.7.3"
  }
 },
 "nbformat": 4,
 "nbformat_minor": 2
}
